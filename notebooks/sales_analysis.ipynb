{
 "cells": [
  {
   "cell_type": "markdown",
   "metadata": {},
   "source": [
    "# 🌍 Global Sales Data Analysis\n",
    "Exploratory analysis of worldwide product sales using Python and SQL.\n",
    "\n",
    "**Key Questions:**\n",
    "- Which countries are top performers?\n",
    "- What are the best-selling products?\n",
    "- Are there trends or seasonal effects in sales?\n",
    "\n",
    "*(Project for portfolio: SQL & Python data analysis, visualization, and business insights)*"
   ]
  },
  {
   "cell_type": "code",
   "metadata": {},
   "source": [
    "import pandas as pd\n",
    "import matplotlib.pyplot as plt\n",
    "import seaborn as sns\n",
    "\n",
    "# Load the data\n",
    "df = pd.read_csv('../data/sales_data.csv')\n",
    "df['Date'] = pd.to_datetime(df['Date'])\n",
    "df.head()"
   ]
  },
  {
   "cell_type": "markdown",
   "metadata": {},
   "source": [
    "## Total Sales by Country"
   ]
  },
  {
   "cell_type": "code",
   "metadata": {},
   "source": [
    "country_sales = df.groupby('Country')['Sales'].sum().sort_values(ascending=False)\n",
    "plt.figure(figsize=(10,5))\n",
    "sns.barplot(x=country_sales.index, y=country_sales.values, palette='viridis')\n",
    "plt.title('Total Sales by Country')\n",
    "plt.ylabel('Sales (USD)')\n",
    "plt.xlabel('Country')\n",
    "plt.tight_layout()\n",
    "plt.show()"
   ]
  },
  {
   "cell_type": "markdown",
   "metadata": {},
   "source": [
    "## Top Products by Sales"
   ]
  },
  {
   "cell_type": "code",
   "metadata": {},
   "source": [
    "product_sales = df.groupby('Product')['Sales'].sum().sort_values(ascending=False)\n",
    "sns.barplot(x=product_sales.index, y=product_sales.values, palette='magma')\n",
    "plt.title('Total Sales by Product')\n",
    "plt.ylabel('Sales (USD)')\n",
    "plt.xlabel('Product')\n",
    "plt.show()"
   ]
  },
  {
   "cell_type": "markdown",
   "metadata": {},
   "source": [
    "## Monthly Sales Trend"
   ]
  },
  {
   "cell_type": "code",
   "metadata": {},
   "source": [
    "monthly_sales = df.groupby(df['Date'].dt.to_period('M'))['Sales'].sum()\n",
    "monthly_sales.index = monthly_sales.index.astype(str)\n",
    "monthly_sales.plot(kind='line', marker='o', figsize=(8,4))\n",
    "plt.title('Monthly Sales Trend')\n",
    "plt.ylabel('Sales (USD)')\n",
    "plt.xlabel('Month')\n",
    "plt.grid(True)\n",
    "plt.tight_layout()\n",
    "plt.show()"
   ]
  },
  {
   "cell_type": "markdown",
   "metadata": {},
   "source": [
    "## Business Insights\n",
    "- India and France are emerging as strong markets.\n",
    "- Gizmo and Gadget are high-performing products globally.\n",
    "- Sales are peaking in June, indicating possible seasonal trends.\n",
    "\n",
    "### Recommendations\n",
    "- Consider focused marketing in top countries.\n",
    "- Analyze product-specific trends to optimize inventory.\n",
    "- Investigate reasons for sales peaks for future strategy."
   ]
  }
 ],
 "metadata": {
  "kernelspec": {
   "display_name": "Python 3",
   "language": "python",
   "name": "python3"
  },
  "language_info": {
   "name": "python"
  }
 },
 "nbformat": 4,
 "nbformat_minor": 2
}
